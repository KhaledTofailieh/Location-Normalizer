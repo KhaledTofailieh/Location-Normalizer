{
 "cells": [
  {
   "cell_type": "code",
   "execution_count": 33,
   "metadata": {},
   "outputs": [],
   "source": [
    "import pandas as pd"
   ]
  },
  {
   "cell_type": "code",
   "execution_count": 34,
   "metadata": {},
   "outputs": [],
   "source": [
    "user_tabel = pd.read_csv('finals/final_user.csv')\n",
    "user_tabel.dropna(subset=['address_'],inplace = True)"
   ]
  },
  {
   "cell_type": "code",
   "execution_count": 35,
   "metadata": {},
   "outputs": [],
   "source": [
    "from sklearn.model_selection import train_test_split\n",
    "\n",
    "X = user_tabel.address_\n",
    "y = user_tabel.label\n",
    "\n",
    "X_train,X_test,y_train,y_test = train_test_split(X,y)"
   ]
  },
  {
   "cell_type": "code",
   "execution_count": 36,
   "metadata": {},
   "outputs": [],
   "source": [
    "# Label Encoding:\n",
    "from sklearn.preprocessing import LabelEncoder\n",
    "label_en = LabelEncoder()\n",
    "label_en.fit(y)\n",
    "\n",
    "train_labels =label_en.transform(y_train)\n",
    "test_labels = label_en.transform(y_test)"
   ]
  },
  {
   "cell_type": "code",
   "execution_count": 37,
   "metadata": {},
   "outputs": [
    {
     "name": "stderr",
     "output_type": "stream",
     "text": [
      "E:\\Applications\\Anaconda\\lib\\site-packages\\ipykernel_launcher.py:3: FutureWarning: The default value of regex will change from True to False in a future version.\n",
      "  This is separate from the ipykernel package so we can avoid doing imports until\n",
      "E:\\Applications\\Anaconda\\lib\\site-packages\\ipykernel_launcher.py:4: FutureWarning: The default value of regex will change from True to False in a future version.\n",
      "  after removing the cwd from sys.path.\n"
     ]
    }
   ],
   "source": [
    "import re\n",
    "ptn = r'[^A-Za-zأ-ي0-9 ]'\n",
    "X_train =X_train.str.replace(ptn,'').dropna()\n",
    "X_test = X_test.str.replace(ptn,'').dropna()"
   ]
  },
  {
   "cell_type": "code",
   "execution_count": 38,
   "metadata": {},
   "outputs": [],
   "source": [
    "from sklearn.feature_extraction.text import TfidfVectorizer\n",
    "tf_vec = TfidfVectorizer(strip_accents='unicode',analyzer = 'char',ngram_range=(1, 3))\n",
    "transformed_train_x = tf_vec.fit_transform(X_train.tolist())"
   ]
  },
  {
   "cell_type": "code",
   "execution_count": 39,
   "metadata": {},
   "outputs": [],
   "source": [
    "transformed_test_x = tf_vec.transform(X_test.tolist())"
   ]
  },
  {
   "cell_type": "code",
   "execution_count": 40,
   "metadata": {},
   "outputs": [
    {
     "name": "stdout",
     "output_type": "stream",
     "text": [
      "Accuracy Tf-Idf MNB : 0.9694\n",
      "Precision Tf-Idf MNB: 0.9720\n",
      "Recall Tf-Idf MNB: 0.9694\n"
     ]
    },
    {
     "name": "stderr",
     "output_type": "stream",
     "text": [
      "E:\\Applications\\Anaconda\\lib\\site-packages\\sklearn\\metrics\\_classification.py:1221: UndefinedMetricWarning: Recall is ill-defined and being set to 0.0 in labels with no true samples. Use `zero_division` parameter to control this behavior.\n",
      "  _warn_prf(average, modifier, msg_start, len(result))\n"
     ]
    }
   ],
   "source": [
    "from sklearn.naive_bayes import MultinomialNB ,BernoulliNB\n",
    "from sklearn.metrics import confusion_matrix\n",
    "from sklearn.metrics import accuracy_score, precision_score, recall_score\n",
    "model_mnb = MultinomialNB()\n",
    "\n",
    "model_mnb.fit(transformed_train_x, train_labels)\n",
    "\n",
    "predictions_mnb = model_mnb.predict(transformed_test_x)\n",
    "confusion_matrix(predictions_mnb, test_labels)\n",
    "\n",
    "print(\"Accuracy Tf-Idf MNB : {:.4f}\".format(accuracy_score(predictions_mnb, test_labels)))\n",
    "print(\"Precision Tf-Idf MNB: {:.4f}\".format(precision_score(predictions_mnb, test_labels, average = 'weighted')))\n",
    "print(\"Recall Tf-Idf MNB: {:.4f}\".format(recall_score(predictions_mnb, test_labels, average = 'weighted'))) "
   ]
  },
  {
   "cell_type": "code",
   "execution_count": 46,
   "metadata": {},
   "outputs": [
    {
     "name": "stdout",
     "output_type": "stream",
     "text": [
      "Accuracy Tf-Idf SGD : 0.9931\n",
      "Precision Tf-Idf SGD: 0.9932\n",
      "Recall Tf-Idf SGD: 0.9931\n"
     ]
    }
   ],
   "source": [
    "from sklearn.linear_model import SGDClassifier\n",
    "model_sgd = SGDClassifier(penalty='l2',eta0=0.01,max_iter=1500)\n",
    "\n",
    "model_sgd.fit(transformed_train_x, train_labels)\n",
    "predictions_sgd = model_sgd.predict(transformed_test_x)\n",
    "\n",
    "\n",
    "print(\"Accuracy Tf-Idf SGD : {:.4f}\".format(accuracy_score(predictions_sgd, test_labels)))\n",
    "print(\"Precision Tf-Idf SGD: {:.4f}\".format(precision_score(predictions_sgd, test_labels, average = 'weighted')))\n",
    "print(\"Recall Tf-Idf SGD: {:.4f}\".format(recall_score(predictions_sgd, test_labels, average = 'weighted')))"
   ]
  },
  {
   "cell_type": "code",
   "execution_count": 47,
   "metadata": {},
   "outputs": [
    {
     "name": "stdout",
     "output_type": "stream",
     "text": [
      "Accuracy Tf-Idf SGD : 0.9959\n",
      "Precision Tf-Idf SGD: 0.9960\n",
      "Recall Tf-Idf SGD: 0.9959\n"
     ]
    }
   ],
   "source": [
    "predictions_sgd = model_sgd.predict(transformed_train_x)\n",
    "print(\"Accuracy Tf-Idf SGD : {:.4f}\".format(accuracy_score(predictions_sgd, train_labels)))\n",
    "print(\"Precision Tf-Idf SGD: {:.4f}\".format(precision_score(predictions_sgd, train_labels, average = 'weighted')))\n",
    "print(\"Recall Tf-Idf SGD: {:.4f}\".format(recall_score(predictions_sgd, train_labels, average = 'weighted')))"
   ]
  },
  {
   "cell_type": "code",
   "execution_count": 42,
   "metadata": {},
   "outputs": [
    {
     "name": "stdout",
     "output_type": "stream",
     "text": [
      "Accuracy Tf-Idf SVC : 0.9929\n",
      "Precision Tf-Idf SVC: 0.9930\n",
      "Recall Tf-Idf SVC: 0.9929\n"
     ]
    },
    {
     "name": "stderr",
     "output_type": "stream",
     "text": [
      "E:\\Applications\\Anaconda\\lib\\site-packages\\sklearn\\metrics\\_classification.py:1221: UndefinedMetricWarning: Recall is ill-defined and being set to 0.0 in labels with no true samples. Use `zero_division` parameter to control this behavior.\n",
      "  _warn_prf(average, modifier, msg_start, len(result))\n"
     ]
    }
   ],
   "source": [
    "from sklearn.svm import SVC\n",
    "model_svc = SVC(kernel='rbf',C=1)\n",
    "model_svc.fit(transformed_train_x, train_labels)\n",
    "\n",
    "predictions_svc = model_svc.predict(transformed_test_x)\n",
    "\n",
    "print(\"Accuracy Tf-Idf SVC : {:.4f}\".format(accuracy_score(predictions_svc, test_labels)))\n",
    "print(\"Precision Tf-Idf SVC: {:.4f}\".format(precision_score(predictions_svc, test_labels, average = 'weighted')))\n",
    "print(\"Recall Tf-Idf SVC: {:.4f}\".format(recall_score(predictions_svc, test_labels, average = 'weighted')))"
   ]
  },
  {
   "cell_type": "code",
   "execution_count": 44,
   "metadata": {},
   "outputs": [
    {
     "name": "stdout",
     "output_type": "stream",
     "text": [
      "Accuracy Tf-Idf SVC : 0.9929\n",
      "Precision Tf-Idf SVC: 0.9930\n",
      "Recall Tf-Idf SVC: 0.9929\n"
     ]
    },
    {
     "name": "stderr",
     "output_type": "stream",
     "text": [
      "E:\\Applications\\Anaconda\\lib\\site-packages\\sklearn\\metrics\\_classification.py:1221: UndefinedMetricWarning: Recall is ill-defined and being set to 0.0 in labels with no true samples. Use `zero_division` parameter to control this behavior.\n",
      "  _warn_prf(average, modifier, msg_start, len(result))\n"
     ]
    }
   ],
   "source": [
    "predictions_svc = model_svc.predict(transformed_test_x)\n",
    "\n",
    "print(\"Accuracy Tf-Idf SVC : {:.4f}\".format(accuracy_score(predictions_svc, test_labels)))\n",
    "print(\"Precision Tf-Idf SVC: {:.4f}\".format(precision_score(predictions_svc, test_labels, average = 'weighted')))\n",
    "print(\"Recall Tf-Idf SVC: {:.4f}\".format(recall_score(predictions_svc, test_labels, average = 'weighted')))"
   ]
  },
  {
   "cell_type": "code",
   "execution_count": 43,
   "metadata": {},
   "outputs": [],
   "source": [
    "# save model and transformers:\n",
    "import pickle\n",
    "with open('input_transformer.pkl','wb') as file:\n",
    "    pickle.dump(tf_vec,file)\n",
    "    \n",
    "with open('output_transformer.pkl','wb') as file:\n",
    "    pickle.dump(label_en,file)\n",
    "    \n",
    "with open('location_model.pkl','wb') as file:\n",
    "    pickle.dump(model_sgd,file)"
   ]
  },
  {
   "cell_type": "code",
   "execution_count": null,
   "metadata": {},
   "outputs": [],
   "source": [
    "from sklearn.preprocessing import OneHotEncoder\n",
    "\n",
    "\n",
    "one_hot_en = OneHotEncoder(sparse=False)\n",
    "one_hot_labels = one_hot_en.fit(y.values.reshape(-1,1))\n",
    "one_hot_en.inverse_transform()\n",
    "# one_hot_labels_test = one_hot_en.transform(y_test.values.reshape(-1,1))"
   ]
  },
  {
   "cell_type": "code",
   "execution_count": 275,
   "metadata": {},
   "outputs": [],
   "source": [
    "from keras.models import Sequential\n",
    "from keras import layers\n",
    "\n",
    "model_ = Sequential()\n",
    "\n",
    "model_.add(layers.Dense(30, activation='relu'))\n",
    "model_.add(layers.Dropout(0.2))\n",
    "model_.add(layers.Dense(10, activation='relu'))\n",
    "model_.add(layers.Dropout(0.1))\n",
    "# model_.add(layers.Dense(10, activation='relu'))\n",
    "\n",
    "model_.add(layers.Dense(29,activation = 'softmax'))\n",
    "\n",
    "model_.compile(optimizer='adam',\n",
    "              loss='categorical_crossentropy',\n",
    "              metrics=['accuracy'])\n",
    "# model_.summary()"
   ]
  },
  {
   "cell_type": "code",
   "execution_count": 278,
   "metadata": {
    "scrolled": true
   },
   "outputs": [
    {
     "name": "stdout",
     "output_type": "stream",
     "text": [
      "Train on 40054 samples, validate on 10014 samples\n",
      "Epoch 1/20\n",
      "40054/40054 [==============================] - 3s 75us/step - loss: 0.5505 - accuracy: 0.8493 - val_loss: 0.3298 - val_accuracy: 0.9279\n",
      "Epoch 2/20\n",
      "40054/40054 [==============================] - 3s 75us/step - loss: 0.5410 - accuracy: 0.8516 - val_loss: 0.3288 - val_accuracy: 0.9300\n",
      "Epoch 3/20\n",
      "40054/40054 [==============================] - 3s 74us/step - loss: 0.5389 - accuracy: 0.8515 - val_loss: 0.3262 - val_accuracy: 0.9298\n",
      "Epoch 4/20\n",
      "40054/40054 [==============================] - 3s 73us/step - loss: 0.5401 - accuracy: 0.8477 - val_loss: 0.3246 - val_accuracy: 0.9300\n",
      "Epoch 5/20\n",
      "40054/40054 [==============================] - 3s 75us/step - loss: 0.5411 - accuracy: 0.8505 - val_loss: 0.3223 - val_accuracy: 0.9318\n",
      "Epoch 6/20\n",
      "40054/40054 [==============================] - 3s 75us/step - loss: 0.5343 - accuracy: 0.8527 - val_loss: 0.3210 - val_accuracy: 0.9319\n",
      "Epoch 7/20\n",
      "40054/40054 [==============================] - 3s 74us/step - loss: 0.5332 - accuracy: 0.8514 - val_loss: 0.3206 - val_accuracy: 0.9306\n",
      "Epoch 8/20\n",
      "40054/40054 [==============================] - 3s 75us/step - loss: 0.5268 - accuracy: 0.8539 - val_loss: 0.3175 - val_accuracy: 0.9322\n",
      "Epoch 9/20\n",
      "40054/40054 [==============================] - 3s 75us/step - loss: 0.5238 - accuracy: 0.8556 - val_loss: 0.3157 - val_accuracy: 0.9321\n",
      "Epoch 10/20\n",
      "40054/40054 [==============================] - 3s 74us/step - loss: 0.5257 - accuracy: 0.8542 - val_loss: 0.3175 - val_accuracy: 0.9319\n",
      "Epoch 11/20\n",
      "40054/40054 [==============================] - 3s 74us/step - loss: 0.5228 - accuracy: 0.8553 - val_loss: 0.3155 - val_accuracy: 0.9318\n",
      "Epoch 12/20\n",
      "40054/40054 [==============================] - 3s 74us/step - loss: 0.5185 - accuracy: 0.8575 - val_loss: 0.3140 - val_accuracy: 0.9322\n",
      "Epoch 13/20\n",
      "40054/40054 [==============================] - 3s 74us/step - loss: 0.5212 - accuracy: 0.8558 - val_loss: 0.3146 - val_accuracy: 0.9322\n",
      "Epoch 14/20\n",
      "40054/40054 [==============================] - 3s 75us/step - loss: 0.5161 - accuracy: 0.8585 - val_loss: 0.3139 - val_accuracy: 0.9327\n",
      "Epoch 15/20\n",
      "40054/40054 [==============================] - 3s 74us/step - loss: 0.5095 - accuracy: 0.8577 - val_loss: 0.3126 - val_accuracy: 0.9341\n",
      "Epoch 16/20\n",
      "40054/40054 [==============================] - 3s 75us/step - loss: 0.5160 - accuracy: 0.8583 - val_loss: 0.3122 - val_accuracy: 0.9329\n",
      "Epoch 17/20\n",
      "40054/40054 [==============================] - 3s 74us/step - loss: 0.5118 - accuracy: 0.8584 - val_loss: 0.3117 - val_accuracy: 0.9332\n",
      "Epoch 18/20\n",
      "40054/40054 [==============================] - 3s 74us/step - loss: 0.5097 - accuracy: 0.8607 - val_loss: 0.3094 - val_accuracy: 0.9343\n",
      "Epoch 19/20\n",
      "40054/40054 [==============================] - 3s 74us/step - loss: 0.5147 - accuracy: 0.8578 - val_loss: 0.3100 - val_accuracy: 0.9332\n",
      "Epoch 20/20\n",
      "40054/40054 [==============================] - 3s 74us/step - loss: 0.5062 - accuracy: 0.8611 - val_loss: 0.3092 - val_accuracy: 0.9345\n"
     ]
    },
    {
     "data": {
      "text/plain": [
       "<keras.callbacks.callbacks.History at 0x1b2e98f70c8>"
      ]
     },
     "execution_count": 278,
     "metadata": {},
     "output_type": "execute_result"
    }
   ],
   "source": [
    "model_.fit(x=transformed_train_x.toarray(),y=one_hot_labels,epochs=20,validation_split=0.2,batch_size=100)"
   ]
  },
  {
   "cell_type": "code",
   "execution_count": 279,
   "metadata": {},
   "outputs": [
    {
     "name": "stdout",
     "output_type": "stream",
     "text": [
      "Training Accuracy: 0.9431\n",
      "Testing Accuracy:  0.9369\n"
     ]
    }
   ],
   "source": [
    "loss, accuracy = model_.evaluate(transformed_train_x.toarray(), one_hot_labels, verbose=False)\n",
    "print(\"Training Accuracy: {:.4f}\".format(accuracy))\n",
    "loss, accuracy = model_.evaluate(transformed_test_x.toarray(), one_hot_labels_test, verbose=False)\n",
    "print(\"Testing Accuracy:  {:.4f}\".format(accuracy))"
   ]
  },
  {
   "cell_type": "code",
   "execution_count": 280,
   "metadata": {},
   "outputs": [],
   "source": [
    "model_.save('user_locate_model_94.h5')"
   ]
  },
  {
   "cell_type": "code",
   "execution_count": null,
   "metadata": {},
   "outputs": [],
   "source": [
    "X_train = [list(str(sample)) for sample in X_train]\n",
    "X_test = [list(str(sample)) for sample in X_test]\n",
    "\n",
    "from keras.preprocessing.sequence import pad_sequences\n",
    "from keras.preprocessing.text import Tokenizer\n",
    "\n",
    "tokenizer = Tokenizer(num_words=1000)\n",
    "maxlen = 10\n",
    "tokenizer.fit_on_texts(X)\n",
    "\n",
    "sq_train = tokenizer.texts_to_sequences(X_train)\n",
    "sq_test = tokenizer.texts_to_sequences(X_test)\n",
    "\n",
    "X_train = pad_sequences(sq_train, padding='post', maxlen=maxlen)\n",
    "X_test = pad_sequences(sq_test, padding='post', maxlen=maxlen)"
   ]
  }
 ],
 "metadata": {
  "kernelspec": {
   "display_name": "Python 3",
   "language": "python",
   "name": "python3"
  },
  "language_info": {
   "codemirror_mode": {
    "name": "ipython",
    "version": 3
   },
   "file_extension": ".py",
   "mimetype": "text/x-python",
   "name": "python",
   "nbconvert_exporter": "python",
   "pygments_lexer": "ipython3",
   "version": "3.7.6"
  }
 },
 "nbformat": 4,
 "nbformat_minor": 4
}
